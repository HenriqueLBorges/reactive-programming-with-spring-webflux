{
 "cells": [
  {
   "cell_type": "code",
   "execution_count": 53,
   "id": "221be3f8",
   "metadata": {},
   "outputs": [],
   "source": [
    "# Install the dependencies\n",
    "\n",
    "#import sys\n",
    "#!conda install --yes --prefix {sys.prefix} pandas\n",
    "#!conda install --yes --prefix {sys.prefix} matplotlib"
   ]
  },
  {
   "cell_type": "code",
   "execution_count": 113,
   "id": "7c93b55f",
   "metadata": {},
   "outputs": [],
   "source": [
    "# Import the dependencies\n",
    "\n",
    "import pandas as pd\n",
    "import matplotlib.pyplot as plt\n",
    "import matplotlib.dates as mdates\n",
    "import re\n",
    "from matplotlib.pyplot import figure\n",
    "from datetime import datetime"
   ]
  },
  {
   "cell_type": "code",
   "execution_count": 114,
   "id": "f6a69687",
   "metadata": {},
   "outputs": [],
   "source": [
    "# Declare variables\n",
    "\n",
    "springKafkaLogFile = 'logs/spring-kafka.log'\n",
    "springReactiveKafkaLogFile = 'logs/spring-reactive-kafka.log'\n",
    "columns = ['project', 'date', 'difference', 'thread', 'animal', 'data']"
   ]
  },
  {
   "cell_type": "code",
   "execution_count": 121,
   "id": "10111290",
   "metadata": {},
   "outputs": [],
   "source": [
    "# Functions\n",
    "\n",
    "def getDataframe(filename, project):\n",
    "    logFile = open(filename, 'r')\n",
    "    lines = logFile.readlines()\n",
    "    data = []\n",
    "    lastDate = ''\n",
    "    \n",
    "    for line in lines:\n",
    "        \n",
    "        if verifyLine(line):\n",
    "            #print(line)\n",
    "            date = getDate(line)\n",
    "            thread = getThread(line)\n",
    "            animal = getAnimal(line)\n",
    "            content = getData(line)\n",
    "            difference = 0\n",
    "            \n",
    "            if isResponseLine(line):\n",
    "                difference = (date - lastDate).total_seconds()\n",
    "            else:\n",
    "                lastDate = date\n",
    "            \n",
    "            data.append([project, date, difference, thread, animal, content])\n",
    "            \n",
    "    return pd.DataFrame(data, columns = columns)\n",
    "\n",
    "        \n",
    "def verifyLine(line):\n",
    "    if isRecordLine(line) or isResponseLine(line):\n",
    "        return True\n",
    "    else: return False\n",
    "\n",
    "def isRecordLine(line):\n",
    "    return 'Record arrived:' in line\n",
    "\n",
    "def isResponseLine(line):\n",
    "    return 'Response arrived:' in line\n",
    "\n",
    "def getDate(line):\n",
    "    return datetime.strptime(line[0:23], '%d-%m-%Y %H:%M:%S.%f')\n",
    "\n",
    "def getThread(line):\n",
    "    return re.findall(r'(\\[(\\w+|\\.+|\\:+|\\#|\\-+)+\\])', line)[1][0][1:-1]\n",
    "\n",
    "def getData(line):\n",
    "    if isResponseLine(line):\n",
    "        return re.findall(r'(Response arrived: (.*))', line)[0][0]\n",
    "    else: ''\n",
    "\n",
    "def getAnimal(line):\n",
    "    if isRecordLine(line):\n",
    "        return re.findall(r': (\\w+( \\w+|))', line)[0][0]\n",
    "    \n",
    "    if isResponseLine(line):\n",
    "        return re.findall(r'(animal (\\w+( \\w+|)))', line)[0][1]"
   ]
  },
  {
   "cell_type": "code",
   "execution_count": 122,
   "id": "6b72f0e4",
   "metadata": {},
   "outputs": [],
   "source": [
    "df = pd.concat([getDataframe(springKafkaLogFile, 'spring-kafka'), getDataframe(springReactiveKafkaLogFile, 'spring-reactive-kafka')])"
   ]
  },
  {
   "cell_type": "code",
   "execution_count": 123,
   "id": "e93041ff",
   "metadata": {},
   "outputs": [
    {
     "data": {
      "text/html": [
       "<div>\n",
       "<style scoped>\n",
       "    .dataframe tbody tr th:only-of-type {\n",
       "        vertical-align: middle;\n",
       "    }\n",
       "\n",
       "    .dataframe tbody tr th {\n",
       "        vertical-align: top;\n",
       "    }\n",
       "\n",
       "    .dataframe thead th {\n",
       "        text-align: right;\n",
       "    }\n",
       "</style>\n",
       "<table border=\"1\" class=\"dataframe\">\n",
       "  <thead>\n",
       "    <tr style=\"text-align: right;\">\n",
       "      <th></th>\n",
       "      <th>project</th>\n",
       "      <th>date</th>\n",
       "      <th>difference</th>\n",
       "      <th>thread</th>\n",
       "      <th>animal</th>\n",
       "      <th>data</th>\n",
       "    </tr>\n",
       "  </thead>\n",
       "  <tbody>\n",
       "    <tr>\n",
       "      <th>0</th>\n",
       "      <td>spring-kafka</td>\n",
       "      <td>2021-10-05 19:05:29.173</td>\n",
       "      <td>0.00</td>\n",
       "      <td>org.springframework.kafka.KafkaListenerEndpoin...</td>\n",
       "      <td>Aardvark</td>\n",
       "      <td>None</td>\n",
       "    </tr>\n",
       "    <tr>\n",
       "      <th>1</th>\n",
       "      <td>spring-kafka</td>\n",
       "      <td>2021-10-05 19:05:31.323</td>\n",
       "      <td>2.15</td>\n",
       "      <td>org.springframework.kafka.KafkaListenerEndpoin...</td>\n",
       "      <td>Aardvark</td>\n",
       "      <td>Response arrived: {\"_type\": \"SearchResponse\", ...</td>\n",
       "    </tr>\n",
       "    <tr>\n",
       "      <th>2</th>\n",
       "      <td>spring-kafka</td>\n",
       "      <td>2021-10-05 19:05:31.329</td>\n",
       "      <td>0.00</td>\n",
       "      <td>org.springframework.kafka.KafkaListenerEndpoin...</td>\n",
       "      <td>Abyssinian</td>\n",
       "      <td>None</td>\n",
       "    </tr>\n",
       "  </tbody>\n",
       "</table>\n",
       "</div>"
      ],
      "text/plain": [
       "        project                    date  difference  \\\n",
       "0  spring-kafka 2021-10-05 19:05:29.173        0.00   \n",
       "1  spring-kafka 2021-10-05 19:05:31.323        2.15   \n",
       "2  spring-kafka 2021-10-05 19:05:31.329        0.00   \n",
       "\n",
       "                                              thread      animal  \\\n",
       "0  org.springframework.kafka.KafkaListenerEndpoin...    Aardvark   \n",
       "1  org.springframework.kafka.KafkaListenerEndpoin...    Aardvark   \n",
       "2  org.springframework.kafka.KafkaListenerEndpoin...  Abyssinian   \n",
       "\n",
       "                                                data  \n",
       "0                                               None  \n",
       "1  Response arrived: {\"_type\": \"SearchResponse\", ...  \n",
       "2                                               None  "
      ]
     },
     "execution_count": 123,
     "metadata": {},
     "output_type": "execute_result"
    }
   ],
   "source": [
    "df.head(3)"
   ]
  },
  {
   "cell_type": "code",
   "execution_count": 124,
   "id": "a1355018",
   "metadata": {},
   "outputs": [
    {
     "data": {
      "text/html": [
       "<div>\n",
       "<style scoped>\n",
       "    .dataframe tbody tr th:only-of-type {\n",
       "        vertical-align: middle;\n",
       "    }\n",
       "\n",
       "    .dataframe tbody tr th {\n",
       "        vertical-align: top;\n",
       "    }\n",
       "\n",
       "    .dataframe thead th {\n",
       "        text-align: right;\n",
       "    }\n",
       "</style>\n",
       "<table border=\"1\" class=\"dataframe\">\n",
       "  <thead>\n",
       "    <tr style=\"text-align: right;\">\n",
       "      <th></th>\n",
       "      <th>project</th>\n",
       "      <th>date</th>\n",
       "      <th>difference</th>\n",
       "      <th>thread</th>\n",
       "      <th>animal</th>\n",
       "      <th>data</th>\n",
       "    </tr>\n",
       "  </thead>\n",
       "  <tbody>\n",
       "    <tr>\n",
       "      <th>2275</th>\n",
       "      <td>spring-reactive-kafka</td>\n",
       "      <td>2021-10-05 19:05:42.343</td>\n",
       "      <td>0.772</td>\n",
       "      <td>reactor-http-nio-2</td>\n",
       "      <td>Zorse</td>\n",
       "      <td>Response arrived: {\"_type\": \"SearchResponse\", ...</td>\n",
       "    </tr>\n",
       "    <tr>\n",
       "      <th>2276</th>\n",
       "      <td>spring-reactive-kafka</td>\n",
       "      <td>2021-10-05 19:05:42.353</td>\n",
       "      <td>0.782</td>\n",
       "      <td>reactor-http-nio-2</td>\n",
       "      <td>Yakutian Laika</td>\n",
       "      <td>Response arrived: {\"_type\": \"SearchResponse\", ...</td>\n",
       "    </tr>\n",
       "    <tr>\n",
       "      <th>2277</th>\n",
       "      <td>spring-reactive-kafka</td>\n",
       "      <td>2021-10-05 19:05:42.394</td>\n",
       "      <td>0.823</td>\n",
       "      <td>reactor-http-nio-3</td>\n",
       "      <td>Yak</td>\n",
       "      <td>Response arrived: {\"_type\": \"SearchResponse\", ...</td>\n",
       "    </tr>\n",
       "  </tbody>\n",
       "</table>\n",
       "</div>"
      ],
      "text/plain": [
       "                    project                    date  difference  \\\n",
       "2275  spring-reactive-kafka 2021-10-05 19:05:42.343       0.772   \n",
       "2276  spring-reactive-kafka 2021-10-05 19:05:42.353       0.782   \n",
       "2277  spring-reactive-kafka 2021-10-05 19:05:42.394       0.823   \n",
       "\n",
       "                  thread          animal  \\\n",
       "2275  reactor-http-nio-2           Zorse   \n",
       "2276  reactor-http-nio-2  Yakutian Laika   \n",
       "2277  reactor-http-nio-3             Yak   \n",
       "\n",
       "                                                   data  \n",
       "2275  Response arrived: {\"_type\": \"SearchResponse\", ...  \n",
       "2276  Response arrived: {\"_type\": \"SearchResponse\", ...  \n",
       "2277  Response arrived: {\"_type\": \"SearchResponse\", ...  "
      ]
     },
     "execution_count": 124,
     "metadata": {},
     "output_type": "execute_result"
    }
   ],
   "source": [
    "df.tail(3)"
   ]
  },
  {
   "cell_type": "code",
   "execution_count": 213,
   "id": "93abe9d2",
   "metadata": {},
   "outputs": [
    {
     "name": "stdout",
     "output_type": "stream",
     "text": [
      "spring-kafka median = 0.702\n",
      "spring-kafka standard deviation = 0.35238035280733065\n"
     ]
    }
   ],
   "source": [
    "mask = (df['project'] == 'spring-kafka') & (df['difference'] != 0)\n",
    "medianSpringKafka = df.loc[mask]['difference'].median()\n",
    "stdSpringKafka = df.loc[mask]['difference'].std()\n",
    "print('spring-kafka median =', medianSpringKafka)\n",
    "print('spring-kafka standard deviation =', stdSpringKafka)"
   ]
  },
  {
   "cell_type": "code",
   "execution_count": 214,
   "id": "e3d35b18",
   "metadata": {},
   "outputs": [
    {
     "name": "stdout",
     "output_type": "stream",
     "text": [
      "spring-reactive-kafka median = 0.036\n",
      "spring-reactive-kafka standard deviation = 0.25061742982702656\n"
     ]
    }
   ],
   "source": [
    "mask = (df['project'] == 'spring-reactive-kafka') & (df['difference'] != 0)\n",
    "medianSpringReactiveKafka = df.loc[mask]['difference'].median()\n",
    "stdSpringReactiveKafka = df.loc[mask]['difference'].std()\n",
    "print('spring-reactive-kafka median =', medianSpringReactiveKafka)\n",
    "print('spring-reactive-kafka standard deviation =', stdSpringReactiveKafka)"
   ]
  },
  {
   "cell_type": "code",
   "execution_count": 215,
   "id": "0121ab2b",
   "metadata": {},
   "outputs": [
    {
     "name": "stdout",
     "output_type": "stream",
     "text": [
      "Request time median drop comparisson between spring-kafka and spring-reactive-kafka: 94.87179487179488\n",
      "Request time standard deviation drop comparisson between spring-kafka and spring-reactive-kafka: 28.87871646917401\n"
     ]
    }
   ],
   "source": [
    "print('Request time median drop comparisson between spring-kafka and spring-reactive-kafka:', (100-(medianSpringReactiveKafka*100)/medianSpringKafka))\n",
    "\n",
    "print('Request time standard deviation drop comparisson between spring-kafka and spring-reactive-kafka:', (100-(stdSpringReactiveKafka*100)/stdSpringKafka))"
   ]
  },
  {
   "cell_type": "code",
   "execution_count": 256,
   "id": "29011357",
   "metadata": {},
   "outputs": [
    {
     "name": "stdout",
     "output_type": "stream",
     "text": [
      "Median difference in message receive time = 406.0\n",
      "Standard deviation difference in message receive time = 233.44410318031112\n"
     ]
    }
   ],
   "source": [
    "mask = (df['difference'] == 0)\n",
    "newdf = df.loc[mask]\n",
    "newdf = newdf.sort_values(by=['animal', 'date'], ascending=True)\n",
    "newdf = newdf.groupby(\"animal\").agg([\"first\", \"last\"]).stack().reset_index();\n",
    "newdf = newdf.sort_values(by=['animal', 'date'], ascending=True)\n",
    "\n",
    "newdf.loc[newdf['level_1'] == \"first\", \"time-diff-s\"] = 0;\n",
    "newdf[\"time-diff-s\"] = newdf['date'].diff().astype(\"timedelta64[s]\")\n",
    "newdf.loc[newdf['level_1'] == \"first\", \"time-diff-s\"] = 0\n",
    "\n",
    "mask = (newdf['time-diff-s'] != 0)\n",
    "medianDifferenceInMessageReceiveTime = newdf.loc[mask]['time-diff-s'].median()\n",
    "stdDifferenceInMessageReceiveTime = newdf.loc[mask]['time-diff-s'].std()\n",
    "\n",
    "print('Median difference in message receive time =', medianDifferenceInMessageReceiveTime)\n",
    "print('Standard deviation difference in message receive time =', stdDifferenceInMessageReceiveTime)"
   ]
  },
  {
   "cell_type": "code",
   "execution_count": null,
   "id": "215321b8",
   "metadata": {},
   "outputs": [],
   "source": []
  },
  {
   "cell_type": "code",
   "execution_count": 161,
   "id": "c9cc40d5",
   "metadata": {},
   "outputs": [],
   "source": [
    "df.to_csv(\"test.csv\", sep=\",\", encoding=\"utf-8\");"
   ]
  },
  {
   "cell_type": "code",
   "execution_count": null,
   "id": "a02cdbc4",
   "metadata": {},
   "outputs": [],
   "source": [
    "fig, ax = plt.subplots(figsize=(50,30))\n",
    "ax.set_title('Threads', {'fontsize': 70})\n",
    "df['thread'].value_counts().sort_index(ascending=True).plot(kind='bar', stacked=True)\n",
    "plt.xlabel('Tempo de resposta(s)', fontsize=50)\n",
    "plt.ylabel('Total de requisições', fontsize=50)\n",
    "plt.xticks(fontsize=30)\n",
    "plt.yticks(fontsize=30)\n",
    "plt.legend(loc=2, prop={'size': 30})\n",
    "ax.grid(True);"
   ]
  }
 ],
 "metadata": {
  "kernelspec": {
   "display_name": "conda_python3",
   "language": "python",
   "name": "conda_python3"
  },
  "language_info": {
   "codemirror_mode": {
    "name": "ipython",
    "version": 3
   },
   "file_extension": ".py",
   "mimetype": "text/x-python",
   "name": "python",
   "nbconvert_exporter": "python",
   "pygments_lexer": "ipython3",
   "version": "3.6.13"
  }
 },
 "nbformat": 4,
 "nbformat_minor": 5
}
